{
 "cells": [
  {
   "cell_type": "markdown",
   "metadata": {},
   "source": [
    "# WineryPy\n",
    "----\n",
    "\n",
    "#### Note\n",
    "* Instructions **"
   ]
  },
  {
   "cell_type": "code",
   "execution_count": 9,
   "metadata": {
    "scrolled": true
   },
   "outputs": [],
   "source": [
    "# Dependencies and Setup\n",
    "import matplotlib.pyplot as plt\n",
    "import pandas as pd\n",
    "import numpy as np\n",
    "import requests\n",
    "import time\n",
    "import json\n",
    "import gmaps\n",
    "from scipy.stats import linregress\n",
    "import scipy.stats as st\n",
    "from pprint import pprint\n",
    "\n",
    "# GooglePlace \n",
    "from GeoLoc import GooglePlaces\n",
    "# Google developer API key\n",
    "from config import gkey\n",
    "#print(gkey)\n"
   ]
  },
  {
   "cell_type": "code",
   "execution_count": 10,
   "metadata": {},
   "outputs": [],
   "source": [
    "name_list = []\n",
    "address_list = []\n",
    "rating_list = []\n",
    "lat_list = []\n",
    "lng_list = []\n",
    "\n",
    "if __name__ == '__main__':\n",
    "    api = GooglePlaces(gkey)\n",
    "    places = api.search_places_by_text(\"wineries in Arizona, AZ\", \"restaurant,bar\")\n",
    "    #print(places)\n",
    "    fields = ['name', 'formatted_address', 'rating', 'review'] \n",
    "    index_counter = 0\n",
    "    for place in places:\n",
    "        try:\n",
    "            details = api.get_place_details(place['place_id'], fields)\n",
    "            name_list.append(place[\"name\"])\n",
    "            address_list.append(place[\"formatted_address\"])\n",
    "            rating_list.append(place[\"rating\"])\n",
    "            lat_list.append(place[\"geometry\"][\"location\"][\"lat\"])\n",
    "            lng_list.append(place[\"geometry\"][\"location\"][\"lng\"])\n",
    "           \n",
    "               \n",
    "            #print(f\"===================PLACE : ===================\")\n",
    "            #print(\"Name:\", name_list)\n",
    "            #print(\"Address:\", address_list)\n",
    "            #print(\"Rating:\", rating_list)\n",
    "            \n",
    "            index_counter = index_counter + 1 \n",
    "            \n",
    "        except(KeyError, IndexError):\n",
    "            print(\"winary not found. Skipping...\")\n",
    "        \n",
    "        "
   ]
  },
  {
   "cell_type": "markdown",
   "metadata": {},
   "source": [
    "### Convert Winery Raw Data to DataFrame\n",
    "* Export the Winery data into a .csv.\n",
    "* Display the DataFrame"
   ]
  },
  {
   "cell_type": "code",
   "execution_count": 11,
   "metadata": {},
   "outputs": [],
   "source": [
    "# Create a panda data frame using data retrieved\n",
    "winery_df = pd.DataFrame({ \n",
    "                \"Name\" : name_list,\n",
    "                \"Address\" : address_list,\n",
    "                \"Rating\" : rating_list,\n",
    "                \"Lat\" : lat_list,\n",
    "                \"Lng\" : lng_list\n",
    "                \n",
    "       \n",
    "})"
   ]
  },
  {
   "cell_type": "code",
   "execution_count": 12,
   "metadata": {},
   "outputs": [
    {
     "data": {
      "text/plain": [
       "Name       60\n",
       "Address    60\n",
       "Rating     60\n",
       "Lat        60\n",
       "Lng        60\n",
       "dtype: int64"
      ]
     },
     "execution_count": 12,
     "metadata": {},
     "output_type": "execute_result"
    }
   ],
   "source": [
    "#  Count data\n",
    "winery_df.count()"
   ]
  },
  {
   "cell_type": "code",
   "execution_count": 13,
   "metadata": {},
   "outputs": [],
   "source": [
    "# Display DataFrame\n",
    "#winery_df.head()"
   ]
  },
  {
   "cell_type": "code",
   "execution_count": 14,
   "metadata": {},
   "outputs": [
    {
     "data": {
      "text/html": [
       "<div>\n",
       "<style scoped>\n",
       "    .dataframe tbody tr th:only-of-type {\n",
       "        vertical-align: middle;\n",
       "    }\n",
       "\n",
       "    .dataframe tbody tr th {\n",
       "        vertical-align: top;\n",
       "    }\n",
       "\n",
       "    .dataframe thead th {\n",
       "        text-align: right;\n",
       "    }\n",
       "</style>\n",
       "<table border=\"1\" class=\"dataframe\">\n",
       "  <thead>\n",
       "    <tr style=\"text-align: right;\">\n",
       "      <th></th>\n",
       "      <th>Name</th>\n",
       "      <th>Address</th>\n",
       "      <th>Rating</th>\n",
       "      <th>Lat</th>\n",
       "      <th>Lng</th>\n",
       "      <th>City</th>\n",
       "      <th>State</th>\n",
       "      <th>Zipcode</th>\n",
       "      <th>Country</th>\n",
       "    </tr>\n",
       "  </thead>\n",
       "  <tbody>\n",
       "    <tr>\n",
       "      <th>0</th>\n",
       "      <td>Winery 101 Peoria</td>\n",
       "      <td>9299 W Olive Ave STE 101</td>\n",
       "      <td>4.8</td>\n",
       "      <td>33.565257</td>\n",
       "      <td>-112.259074</td>\n",
       "      <td>Peoria</td>\n",
       "      <td>AZ</td>\n",
       "      <td>85345</td>\n",
       "      <td>United States</td>\n",
       "    </tr>\n",
       "    <tr>\n",
       "      <th>1</th>\n",
       "      <td>Gallifant Cellars</td>\n",
       "      <td>9299 W Olive Ave #101</td>\n",
       "      <td>4.7</td>\n",
       "      <td>33.565263</td>\n",
       "      <td>-112.258997</td>\n",
       "      <td>Peoria</td>\n",
       "      <td>AZ</td>\n",
       "      <td>85345</td>\n",
       "      <td>United States</td>\n",
       "    </tr>\n",
       "    <tr>\n",
       "      <th>2</th>\n",
       "      <td>Carlson Creek Vineyard, Scottsdale Tasting Room</td>\n",
       "      <td>4142 N Marshall Way</td>\n",
       "      <td>4.8</td>\n",
       "      <td>33.495609</td>\n",
       "      <td>-111.929291</td>\n",
       "      <td>Scottsdale</td>\n",
       "      <td>AZ</td>\n",
       "      <td>85251</td>\n",
       "      <td>United States</td>\n",
       "    </tr>\n",
       "    <tr>\n",
       "      <th>3</th>\n",
       "      <td>Su Vino Winery</td>\n",
       "      <td>7330 E Main St Suite 105</td>\n",
       "      <td>3.9</td>\n",
       "      <td>33.493326</td>\n",
       "      <td>-111.923837</td>\n",
       "      <td>Scottsdale</td>\n",
       "      <td>AZ</td>\n",
       "      <td>85251</td>\n",
       "      <td>United States</td>\n",
       "    </tr>\n",
       "    <tr>\n",
       "      <th>4</th>\n",
       "      <td>Aridus Wine Company Tasting Room</td>\n",
       "      <td>7173 E Main St</td>\n",
       "      <td>4.6</td>\n",
       "      <td>33.492828</td>\n",
       "      <td>-111.926724</td>\n",
       "      <td>Scottsdale</td>\n",
       "      <td>AZ</td>\n",
       "      <td>85251</td>\n",
       "      <td>United States</td>\n",
       "    </tr>\n",
       "  </tbody>\n",
       "</table>\n",
       "</div>"
      ],
      "text/plain": [
       "                                              Name                   Address  \\\n",
       "0                                Winery 101 Peoria  9299 W Olive Ave STE 101   \n",
       "1                                Gallifant Cellars     9299 W Olive Ave #101   \n",
       "2  Carlson Creek Vineyard, Scottsdale Tasting Room       4142 N Marshall Way   \n",
       "3                                   Su Vino Winery  7330 E Main St Suite 105   \n",
       "4                 Aridus Wine Company Tasting Room            7173 E Main St   \n",
       "\n",
       "   Rating        Lat         Lng         City State Zipcode         Country  \n",
       "0     4.8  33.565257 -112.259074       Peoria    AZ   85345   United States  \n",
       "1     4.7  33.565263 -112.258997       Peoria    AZ   85345   United States  \n",
       "2     4.8  33.495609 -111.929291   Scottsdale    AZ   85251   United States  \n",
       "3     3.9  33.493326 -111.923837   Scottsdale    AZ   85251   United States  \n",
       "4     4.6  33.492828 -111.926724   Scottsdale    AZ   85251   United States  "
      ]
     },
     "execution_count": 14,
     "metadata": {},
     "output_type": "execute_result"
    }
   ],
   "source": [
    "# dropping null value columns to avoid errors \n",
    "winery_df.dropna(inplace = True) \n",
    "\n",
    "# new data frame with split address columns \n",
    "new_df = winery_df[\"Address\"].str.split(\",\", n = 3, expand = True) \n",
    "  \n",
    "# making separate Address column from new data frame \n",
    "winery_df[\"Address\"]= new_df[0] \n",
    "  \n",
    "# making separate city column from new data frame \n",
    "winery_df[\"City\"]= new_df[1] \n",
    "\n",
    "# making separate State & Zipcode column from new data frame \n",
    "#brewery_df[\"State-Zip\"]= new[2] \n",
    "winery_df[['State','Zipcode']] = new_df[2].str.split(expand=True) \n",
    "\n",
    "# making separate Country column from new data frame \n",
    "winery_df[\"Country\"]= new_df[3] \n",
    "  \n",
    "#df display \n",
    "winery_df.head()"
   ]
  },
  {
   "cell_type": "code",
   "execution_count": 15,
   "metadata": {},
   "outputs": [],
   "source": [
    "# Extract relevant fields from the data frame\n",
    "\n",
    "\n",
    "# Export the City_Data into a csv\n",
    "winery_df.to_csv(\"DataFile/winery.csv\", index = False)"
   ]
  },
  {
   "cell_type": "code",
   "execution_count": 16,
   "metadata": {},
   "outputs": [],
   "source": [
    "# Configure gmaps\n",
    "gmaps.configure(api_key=gkey)\n",
    "\n",
    "# Store latitude and longitude in locations\n",
    "locations = winery_df[[\"Lat\", \"Lng\"]]\n",
    "\n",
    "# Fill NaN values and convert to float\n",
    "rating = winery_df[\"Rating\"].astype(float)"
   ]
  },
  {
   "cell_type": "code",
   "execution_count": 20,
   "metadata": {},
   "outputs": [
    {
     "data": {
      "application/vnd.jupyter.widget-view+json": {
       "model_id": "67518a396c464b339a2d2ad992405c8c",
       "version_major": 2,
       "version_minor": 0
      },
      "text/plain": [
       "Figure(layout=FigureLayout(height='420px'))"
      ]
     },
     "metadata": {},
     "output_type": "display_data"
    }
   ],
   "source": [
    "# Plot Heatmap\n",
    "fig = gmaps.figure()\n",
    "\n",
    "# Create heat layer\n",
    "heat_layer = gmaps.heatmap_layer(locations, weights=rating, \n",
    "                                 dissipating=False, max_intensity=10,\n",
    "                                 point_radius=.1)\n",
    "\n",
    "\n",
    "# Add layer\n",
    "fig.add_layer(heat_layer)\n",
    "\n",
    "# Display figure\n",
    "fig"
   ]
  },
  {
   "cell_type": "code",
   "execution_count": 18,
   "metadata": {},
   "outputs": [],
   "source": [
    "# NOTE: Do not change any of the code in this cell\n",
    "\n",
    "# Using the template add the hotel marks to the heatmap\n",
    "info_box_template = \"\"\"\n",
    "<dl>\n",
    "<dt>Name</dt><dd>{Name}</dd>\n",
    "<dt>Address</dt><dd>{Address}</dd><dd>{City}</dd>\n",
    "<dt>Rating</dt><dd>{Rating}</dd>\n",
    "</dl>\n",
    "\"\"\"\n",
    "# Store the DataFrame Row\n",
    "# NOTE: be sure to update with your DataFrame name\n",
    "bar_info = [info_box_template.format(**row) for index, row in winery_df.iterrows()]\n",
    "locations = winery_df[[\"Lat\", \"Lng\"]]"
   ]
  },
  {
   "cell_type": "code",
   "execution_count": 19,
   "metadata": {},
   "outputs": [
    {
     "data": {
      "application/vnd.jupyter.widget-view+json": {
       "model_id": "92f2b261d71c4dbaa1f2b1e305139f6e",
       "version_major": 2,
       "version_minor": 0
      },
      "text/plain": [
       "Figure(layout=FigureLayout(height='420px'))"
      ]
     },
     "metadata": {},
     "output_type": "display_data"
    }
   ],
   "source": [
    "# Add marker layer and info box content ontop of heat map\n",
    "markers = gmaps.marker_layer(locations, info_box_content = bar_info)\n",
    "\n",
    "# Add the layer to the map\n",
    "fig.add_layer(markers)\n",
    "\n",
    "# Display Map\n",
    "fig"
   ]
  }
 ],
 "metadata": {
  "anaconda-cloud": {},
  "kernel_info": {
   "name": "python3"
  },
  "kernelspec": {
   "display_name": "Python 3",
   "language": "python",
   "name": "python3"
  },
  "language_info": {
   "codemirror_mode": {
    "name": "ipython",
    "version": 3
   },
   "file_extension": ".py",
   "mimetype": "text/x-python",
   "name": "python",
   "nbconvert_exporter": "python",
   "pygments_lexer": "ipython3",
   "version": "3.8.3"
  },
  "latex_envs": {
   "LaTeX_envs_menu_present": true,
   "autoclose": false,
   "autocomplete": true,
   "bibliofile": "biblio.bib",
   "cite_by": "apalike",
   "current_citInitial": 1,
   "eqLabelWithNumbers": true,
   "eqNumInitial": 1,
   "hotkeys": {
    "equation": "Ctrl-E",
    "itemize": "Ctrl-I"
   },
   "labels_anchors": false,
   "latex_user_defs": false,
   "report_style_numbering": false,
   "user_envs_cfg": false
  },
  "nteract": {
   "version": "0.12.3"
  }
 },
 "nbformat": 4,
 "nbformat_minor": 2
}
