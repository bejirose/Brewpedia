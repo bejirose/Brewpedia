{
 "cells": [
  {
   "cell_type": "markdown",
   "metadata": {},
   "source": [
    "# BreweryPy\n",
    "----\n",
    "\n",
    "#### Note\n",
    "* Instructions **"
   ]
  },
  {
   "cell_type": "code",
   "execution_count": 7,
   "metadata": {
    "scrolled": true
   },
   "outputs": [],
   "source": [
    "# Dependencies and Setup\n",
    "import matplotlib.pyplot as plt\n",
    "import pandas as pd\n",
    "import numpy as np\n",
    "import requests\n",
    "import json\n",
    "import time\n",
    "import gmaps\n",
    "import ipywidgets as widgets\n",
    "from IPython.display import display\n",
    "from ipywidgets import interact, interact_manual\n",
    "from scipy.stats import linregress\n",
    "import scipy.stats as st\n",
    "from pprint import pprint\n",
    "from GeoLoc import GooglePlaces\n",
    "# Google developer API key\n",
    "from config import gkey\n",
    "#print(gkey)\n",
    "\n"
   ]
  },
  {
   "cell_type": "code",
   "execution_count": 8,
   "metadata": {},
   "outputs": [
    {
     "data": {
      "application/vnd.jupyter.widget-view+json": {
       "model_id": "75c48329a2ad4c34896b28b1d06c762b",
       "version_major": 2,
       "version_minor": 0
      },
      "text/plain": [
       "interactive(children=(Text(value='claps', description='column'), IntSlider(value=5000, description='x', max=15…"
      ]
     },
     "metadata": {},
     "output_type": "display_data"
    }
   ],
   "source": [
    "@interact\n",
    "def show_articles_more_than(column='claps', x=5000):\n",
    "    display(HTML(f'<h2>Showing articles with more than {x} {column}<h2>'))\n",
    "    display(df.loc[df[column] > x, ['title', 'published_date', 'read_time', 'tags', 'views', 'reads']])"
   ]
  },
  {
   "cell_type": "code",
   "execution_count": 6,
   "metadata": {},
   "outputs": [],
   "source": [
    "name_list = []\n",
    "address_list = []\n",
    "rating_list = []\n",
    "lat_list = []\n",
    "lng_list = []\n",
    "\n",
    "if __name__ == '__main__':\n",
    "    api = GooglePlaces(gkey)\n",
    "    places = api.search_places_by_text(\"Brewery in Arizona, AZ\", \"restaurant,bar\")\n",
    "    #print(places)\n",
    "    fields = ['name', 'formatted_address', 'rating', 'review','lat','lng'] \n",
    "    index_counter = 0\n",
    "    for place in places:\n",
    "        try:            \n",
    "            name_list.append(place[\"name\"])\n",
    "            address_list.append(place[\"formatted_address\"])\n",
    "            rating_list.append(place[\"rating\"])\n",
    "            lat_list.append(place[\"geometry\"][\"location\"][\"lat\"])\n",
    "            lng_list.append(place[\"geometry\"][\"location\"][\"lng\"])\n",
    "\n",
    "            index_counter = index_counter + 1    \n",
    "            #print(f\"===================PLACE : ===================\")\n",
    "            #print(\"Name:\", name_list)\n",
    "            #print(\"Address:\", address_list)\n",
    "            #print(\"Rating:\", rating_list)\n",
    "            #print(\"Lat:\", lat_list)\n",
    "            #print(\"Lat:\", lng_list)\n",
    "            \n",
    "        except(KeyError, IndexError):\n",
    "            print(\"Brewery not found. Skipping...\")\n",
    "        \n",
    "        "
   ]
  },
  {
   "cell_type": "markdown",
   "metadata": {},
   "source": [
    "### Convert Brewery Raw Data to DataFrame\n",
    "* Export the brewery data into a .csv.\n",
    "* Display the DataFrame"
   ]
  },
  {
   "cell_type": "code",
   "execution_count": 7,
   "metadata": {},
   "outputs": [],
   "source": [
    "# Create a panda data frame using data retrieved\n",
    "brewery_df = pd.DataFrame({ \n",
    "                \"Name\" : name_list,\n",
    "                \"Address\" : address_list,\n",
    "                \"Rating\" : rating_list,\n",
    "                \"Lat\" : lat_list,\n",
    "                \"Lng\" : lng_list\n",
    "       \n",
    "})"
   ]
  },
  {
   "cell_type": "code",
   "execution_count": 8,
   "metadata": {},
   "outputs": [
    {
     "data": {
      "text/plain": [
       "Name       60\n",
       "Address    60\n",
       "Rating     60\n",
       "Lat        60\n",
       "Lng        60\n",
       "dtype: int64"
      ]
     },
     "execution_count": 8,
     "metadata": {},
     "output_type": "execute_result"
    }
   ],
   "source": [
    "#  Count data\n",
    "brewery_df.count()"
   ]
  },
  {
   "cell_type": "code",
   "execution_count": 9,
   "metadata": {},
   "outputs": [
    {
     "data": {
      "text/html": [
       "<div>\n",
       "<style scoped>\n",
       "    .dataframe tbody tr th:only-of-type {\n",
       "        vertical-align: middle;\n",
       "    }\n",
       "\n",
       "    .dataframe tbody tr th {\n",
       "        vertical-align: top;\n",
       "    }\n",
       "\n",
       "    .dataframe thead th {\n",
       "        text-align: right;\n",
       "    }\n",
       "</style>\n",
       "<table border=\"1\" class=\"dataframe\">\n",
       "  <thead>\n",
       "    <tr style=\"text-align: right;\">\n",
       "      <th></th>\n",
       "      <th>Name</th>\n",
       "      <th>Address</th>\n",
       "      <th>Rating</th>\n",
       "      <th>Lat</th>\n",
       "      <th>Lng</th>\n",
       "    </tr>\n",
       "  </thead>\n",
       "  <tbody>\n",
       "    <tr>\n",
       "      <th>0</th>\n",
       "      <td>Front Pourch Brewing</td>\n",
       "      <td>1611 W Whispering Wind Dr #7, Phoenix, AZ 8508...</td>\n",
       "      <td>4.9</td>\n",
       "      <td>33.710072</td>\n",
       "      <td>-112.095371</td>\n",
       "    </tr>\n",
       "    <tr>\n",
       "      <th>1</th>\n",
       "      <td>North Mountain Brewing Company</td>\n",
       "      <td>522 E Dunlap Ave, Phoenix, AZ 85020, United St...</td>\n",
       "      <td>4.6</td>\n",
       "      <td>33.567981</td>\n",
       "      <td>-112.066441</td>\n",
       "    </tr>\n",
       "    <tr>\n",
       "      <th>2</th>\n",
       "      <td>Peoria Artisan Brewery &amp; Gastropub</td>\n",
       "      <td>10144 N Lake Pleasant Pkwy #1130, Peoria, AZ 8...</td>\n",
       "      <td>4.4</td>\n",
       "      <td>33.677842</td>\n",
       "      <td>-112.277393</td>\n",
       "    </tr>\n",
       "    <tr>\n",
       "      <th>3</th>\n",
       "      <td>Simple Machine Brewing Company</td>\n",
       "      <td>701 W Deer Valley Rd STE 1, Phoenix, AZ 85027,...</td>\n",
       "      <td>4.9</td>\n",
       "      <td>33.683195</td>\n",
       "      <td>-112.083335</td>\n",
       "    </tr>\n",
       "    <tr>\n",
       "      <th>4</th>\n",
       "      <td>Freak'N Brewing Company</td>\n",
       "      <td>9299 W Olive Ave #513, Peoria, AZ 85345, Unite...</td>\n",
       "      <td>4.8</td>\n",
       "      <td>33.561863</td>\n",
       "      <td>-112.259094</td>\n",
       "    </tr>\n",
       "  </tbody>\n",
       "</table>\n",
       "</div>"
      ],
      "text/plain": [
       "                                 Name  \\\n",
       "0                Front Pourch Brewing   \n",
       "1      North Mountain Brewing Company   \n",
       "2  Peoria Artisan Brewery & Gastropub   \n",
       "3      Simple Machine Brewing Company   \n",
       "4             Freak'N Brewing Company   \n",
       "\n",
       "                                             Address  Rating        Lat  \\\n",
       "0  1611 W Whispering Wind Dr #7, Phoenix, AZ 8508...     4.9  33.710072   \n",
       "1  522 E Dunlap Ave, Phoenix, AZ 85020, United St...     4.6  33.567981   \n",
       "2  10144 N Lake Pleasant Pkwy #1130, Peoria, AZ 8...     4.4  33.677842   \n",
       "3  701 W Deer Valley Rd STE 1, Phoenix, AZ 85027,...     4.9  33.683195   \n",
       "4  9299 W Olive Ave #513, Peoria, AZ 85345, Unite...     4.8  33.561863   \n",
       "\n",
       "          Lng  \n",
       "0 -112.095371  \n",
       "1 -112.066441  \n",
       "2 -112.277393  \n",
       "3 -112.083335  \n",
       "4 -112.259094  "
      ]
     },
     "execution_count": 9,
     "metadata": {},
     "output_type": "execute_result"
    }
   ],
   "source": [
    "# Display DataFrame\n",
    "brewery_df.head()\n",
    "#brewery_df.to_csv(\"DataFile/brewery.csv\", index = False)"
   ]
  },
  {
   "cell_type": "code",
   "execution_count": 10,
   "metadata": {},
   "outputs": [
    {
     "data": {
      "text/html": [
       "<div>\n",
       "<style scoped>\n",
       "    .dataframe tbody tr th:only-of-type {\n",
       "        vertical-align: middle;\n",
       "    }\n",
       "\n",
       "    .dataframe tbody tr th {\n",
       "        vertical-align: top;\n",
       "    }\n",
       "\n",
       "    .dataframe thead th {\n",
       "        text-align: right;\n",
       "    }\n",
       "</style>\n",
       "<table border=\"1\" class=\"dataframe\">\n",
       "  <thead>\n",
       "    <tr style=\"text-align: right;\">\n",
       "      <th></th>\n",
       "      <th>Name</th>\n",
       "      <th>Address</th>\n",
       "      <th>Rating</th>\n",
       "      <th>Lat</th>\n",
       "      <th>Lng</th>\n",
       "      <th>City</th>\n",
       "      <th>State</th>\n",
       "      <th>Zipcode</th>\n",
       "      <th>Country</th>\n",
       "    </tr>\n",
       "  </thead>\n",
       "  <tbody>\n",
       "    <tr>\n",
       "      <th>0</th>\n",
       "      <td>Front Pourch Brewing</td>\n",
       "      <td>1611 W Whispering Wind Dr #7</td>\n",
       "      <td>4.9</td>\n",
       "      <td>33.710072</td>\n",
       "      <td>-112.095371</td>\n",
       "      <td>Phoenix</td>\n",
       "      <td>AZ</td>\n",
       "      <td>85085</td>\n",
       "      <td>United States</td>\n",
       "    </tr>\n",
       "    <tr>\n",
       "      <th>1</th>\n",
       "      <td>North Mountain Brewing Company</td>\n",
       "      <td>522 E Dunlap Ave</td>\n",
       "      <td>4.6</td>\n",
       "      <td>33.567981</td>\n",
       "      <td>-112.066441</td>\n",
       "      <td>Phoenix</td>\n",
       "      <td>AZ</td>\n",
       "      <td>85020</td>\n",
       "      <td>United States</td>\n",
       "    </tr>\n",
       "    <tr>\n",
       "      <th>2</th>\n",
       "      <td>Peoria Artisan Brewery &amp; Gastropub</td>\n",
       "      <td>10144 N Lake Pleasant Pkwy #1130</td>\n",
       "      <td>4.4</td>\n",
       "      <td>33.677842</td>\n",
       "      <td>-112.277393</td>\n",
       "      <td>Peoria</td>\n",
       "      <td>AZ</td>\n",
       "      <td>85382</td>\n",
       "      <td>United States</td>\n",
       "    </tr>\n",
       "    <tr>\n",
       "      <th>3</th>\n",
       "      <td>Simple Machine Brewing Company</td>\n",
       "      <td>701 W Deer Valley Rd STE 1</td>\n",
       "      <td>4.9</td>\n",
       "      <td>33.683195</td>\n",
       "      <td>-112.083335</td>\n",
       "      <td>Phoenix</td>\n",
       "      <td>AZ</td>\n",
       "      <td>85027</td>\n",
       "      <td>United States</td>\n",
       "    </tr>\n",
       "    <tr>\n",
       "      <th>4</th>\n",
       "      <td>Freak'N Brewing Company</td>\n",
       "      <td>9299 W Olive Ave #513</td>\n",
       "      <td>4.8</td>\n",
       "      <td>33.561863</td>\n",
       "      <td>-112.259094</td>\n",
       "      <td>Peoria</td>\n",
       "      <td>AZ</td>\n",
       "      <td>85345</td>\n",
       "      <td>United States</td>\n",
       "    </tr>\n",
       "  </tbody>\n",
       "</table>\n",
       "</div>"
      ],
      "text/plain": [
       "                                 Name                           Address  \\\n",
       "0                Front Pourch Brewing      1611 W Whispering Wind Dr #7   \n",
       "1      North Mountain Brewing Company                  522 E Dunlap Ave   \n",
       "2  Peoria Artisan Brewery & Gastropub  10144 N Lake Pleasant Pkwy #1130   \n",
       "3      Simple Machine Brewing Company        701 W Deer Valley Rd STE 1   \n",
       "4             Freak'N Brewing Company             9299 W Olive Ave #513   \n",
       "\n",
       "   Rating        Lat         Lng      City State Zipcode         Country  \n",
       "0     4.9  33.710072 -112.095371   Phoenix    AZ   85085   United States  \n",
       "1     4.6  33.567981 -112.066441   Phoenix    AZ   85020   United States  \n",
       "2     4.4  33.677842 -112.277393    Peoria    AZ   85382   United States  \n",
       "3     4.9  33.683195 -112.083335   Phoenix    AZ   85027   United States  \n",
       "4     4.8  33.561863 -112.259094    Peoria    AZ   85345   United States  "
      ]
     },
     "execution_count": 10,
     "metadata": {},
     "output_type": "execute_result"
    }
   ],
   "source": [
    "# dropping null value columns to avoid errors \n",
    "brewery_df.dropna(inplace = True) \n",
    "\n",
    "# new data frame with split address columns \n",
    "new = brewery_df[\"Address\"].str.split(\",\", n = 3, expand = True) \n",
    "  \n",
    "# making separate Address column from new data frame \n",
    "brewery_df[\"Address\"]= new[0] \n",
    "  \n",
    "# making separate city column from new data frame \n",
    "brewery_df[\"City\"]= new[1] \n",
    "\n",
    "# making separate State & Zipcode column from new data frame \n",
    "#brewery_df[\"State-Zip\"]= new[2] \n",
    "brewery_df[['State','Zipcode']] = new[2].str.split(expand=True) \n",
    "\n",
    "# making separate Country column from new data frame \n",
    "brewery_df[\"Country\"]= new[3] \n",
    "  \n",
    "#df display \n",
    "brewery_df.head()"
   ]
  },
  {
   "cell_type": "code",
   "execution_count": 11,
   "metadata": {},
   "outputs": [],
   "source": [
    "# Export the Brewery Data into a csv\n",
    "brewery_df.to_csv(\"DataFile/brewery.csv\", index = False)"
   ]
  },
  {
   "cell_type": "code",
   "execution_count": 12,
   "metadata": {},
   "outputs": [],
   "source": [
    "# Configure gmaps\n",
    "gmaps.configure(api_key=gkey)\n",
    "\n",
    "# Store latitude and longitude in locations\n",
    "locations = brewery_df[[\"Lat\", \"Lng\"]]\n",
    "\n",
    "# Fill NaN values and convert to float\n",
    "rating = brewery_df[\"Rating\"].astype(float)"
   ]
  },
  {
   "cell_type": "code",
   "execution_count": 13,
   "metadata": {},
   "outputs": [
    {
     "data": {
      "application/vnd.jupyter.widget-view+json": {
       "model_id": "bcdcc672d6354578b9549e7b341bd153",
       "version_major": 2,
       "version_minor": 0
      },
      "text/plain": [
       "Figure(layout=FigureLayout(height='420px'))"
      ]
     },
     "metadata": {},
     "output_type": "display_data"
    }
   ],
   "source": [
    "# Plot Heatmap\n",
    "fig = gmaps.figure()\n",
    "\n",
    "# Create heat layer\n",
    "heat_layer = gmaps.heatmap_layer(locations, weights=rating, \n",
    "                                 dissipating=False, max_intensity=10,\n",
    "                                 point_radius=1)\n",
    "\n",
    "\n",
    "# Add layer\n",
    "fig.add_layer(heat_layer)\n",
    "\n",
    "# Display figure\n",
    "fig"
   ]
  },
  {
   "cell_type": "code",
   "execution_count": 14,
   "metadata": {},
   "outputs": [],
   "source": [
    "# NOTE: Do not change any of the code in this cell\n",
    "\n",
    "# Using the template add the hotel marks to the heatmap\n",
    "info_box_template = \"\"\"\n",
    "<dl>\n",
    "<dt>Name</dt><dd>{Name}</dd>\n",
    "<dt>Address</dt><dd>{Address}</dd><dd>{City}</dd>\n",
    "<dt>Rating</dt><dd>{Rating}</dd>\n",
    "</dl>\n",
    "\"\"\"\n",
    "# Store the DataFrame Row\n",
    "# NOTE: be sure to update with your DataFrame name\n",
    "bar_info = [info_box_template.format(**row) for index, row in brewery_df.iterrows()]\n",
    "locations = brewery_df[[\"Lat\", \"Lng\"]]"
   ]
  },
  {
   "cell_type": "code",
   "execution_count": 15,
   "metadata": {},
   "outputs": [
    {
     "data": {
      "application/vnd.jupyter.widget-view+json": {
       "model_id": "bcdcc672d6354578b9549e7b341bd153",
       "version_major": 2,
       "version_minor": 0
      },
      "text/plain": [
       "Figure(layout=FigureLayout(height='420px'))"
      ]
     },
     "metadata": {},
     "output_type": "display_data"
    }
   ],
   "source": [
    "# Add marker layer and info box content ontop of heat map\n",
    "markers = gmaps.marker_layer(locations, info_box_content = bar_info)\n",
    "\n",
    "# Add the layer to the map\n",
    "fig.add_layer(markers)\n",
    "\n",
    "# Display Map\n",
    "fig"
   ]
  },
  {
   "cell_type": "code",
   "execution_count": null,
   "metadata": {},
   "outputs": [],
   "source": []
  }
 ],
 "metadata": {
  "anaconda-cloud": {},
  "kernel_info": {
   "name": "python3"
  },
  "kernelspec": {
   "display_name": "Python 3",
   "language": "python",
   "name": "python3"
  },
  "language_info": {
   "codemirror_mode": {
    "name": "ipython",
    "version": 3
   },
   "file_extension": ".py",
   "mimetype": "text/x-python",
   "name": "python",
   "nbconvert_exporter": "python",
   "pygments_lexer": "ipython3",
   "version": "3.8.3"
  },
  "latex_envs": {
   "LaTeX_envs_menu_present": true,
   "autoclose": false,
   "autocomplete": true,
   "bibliofile": "biblio.bib",
   "cite_by": "apalike",
   "current_citInitial": 1,
   "eqLabelWithNumbers": true,
   "eqNumInitial": 1,
   "hotkeys": {
    "equation": "Ctrl-E",
    "itemize": "Ctrl-I"
   },
   "labels_anchors": false,
   "latex_user_defs": false,
   "report_style_numbering": false,
   "user_envs_cfg": false
  },
  "nteract": {
   "version": "0.12.3"
  }
 },
 "nbformat": 4,
 "nbformat_minor": 2
}
